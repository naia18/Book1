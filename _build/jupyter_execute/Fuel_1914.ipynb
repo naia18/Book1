{
 "cells": [
  {
   "cell_type": "markdown",
   "metadata": {},
   "source": [
    "# Using data from fossil-fuel CO2 emissions"
   ]
  },
  {
   "cell_type": "markdown",
   "metadata": {},
   "source": [
    "## 1. Introduction"
   ]
  },
  {
   "cell_type": "markdown",
   "metadata": {},
   "source": [
    "In this Jupyter Notebook we follow the same procedure as before but with data on $CO_2$. The dataset used shows the per Country $CO_2$ Emissions from fossil-fuels annually since 1751 till 2014. Data comes from the Carbon Dioxide Information Analysis Center (CDIAC). \n",
    "\n",
    "In order to make a comparison I've taken data from 1914 and 2014. \n",
    "\n",
    "* Year 1914 shows a wanting of data: a total of 46 countries, which compared to 219 countries' data available in 2014, is rather short."
   ]
  },
  {
   "cell_type": "markdown",
   "metadata": {},
   "source": [
    "## 2. Code"
   ]
  },
  {
   "cell_type": "markdown",
   "metadata": {},
   "source": [
    "### 2.1. Import libraries"
   ]
  },
  {
   "cell_type": "code",
   "execution_count": 1,
   "metadata": {},
   "outputs": [],
   "source": [
    "import pandas as pd\n",
    "import geopandas\n",
    "import folium"
   ]
  },
  {
   "cell_type": "markdown",
   "metadata": {},
   "source": [
    "### 2.2. Read data from CSV file"
   ]
  },
  {
   "cell_type": "code",
   "execution_count": 2,
   "metadata": {},
   "outputs": [],
   "source": [
    "# Read csv file\n",
    "df_co2 = pd.read_csv('Data/fossil-fuel.csv')"
   ]
  },
  {
   "cell_type": "markdown",
   "metadata": {},
   "source": [
    "### 2.3. Construct the arrays of interest"
   ]
  },
  {
   "cell_type": "markdown",
   "metadata": {},
   "source": [
    "Here we'll take only the data available in 1914 and the last data available: 2014. "
   ]
  },
  {
   "cell_type": "code",
   "execution_count": 3,
   "metadata": {},
   "outputs": [],
   "source": [
    "# Select the data that I want\n",
    "df_1 = df_co2[df_co2['Year'] == 1914]\n",
    "df_2 = df_co2[df_co2['Year'] == 2014]"
   ]
  },
  {
   "cell_type": "code",
   "execution_count": 4,
   "metadata": {},
   "outputs": [],
   "source": [
    "df_1_good = pd.read_excel('Data/df_1.xls')\n",
    "df_2_good = pd.read_excel('Data/df_2.xls')\n",
    "df_1_good = df_1_good[df_1_good['Total']>=100]"
   ]
  },
  {
   "cell_type": "code",
   "execution_count": 5,
   "metadata": {},
   "outputs": [],
   "source": [
    "df_1_good.to_excel(r'df_1_good.xlsx')"
   ]
  },
  {
   "cell_type": "markdown",
   "metadata": {},
   "source": [
    "### 2.4. Read GeoPandas dataset and create the map for year 1914"
   ]
  },
  {
   "cell_type": "code",
   "execution_count": 6,
   "metadata": {},
   "outputs": [],
   "source": [
    "# Read the geopandas dataset\n",
    "world = geopandas.read_file(geopandas.datasets.get_path('naturalearth_lowres'))\n",
    "\n",
    "df_1_good = world.merge(df_1_good, how=\"left\", left_on=['name'], right_on=['Country'])\n",
    "\n",
    "# Drop NaN values in dataset\n",
    "df_1_good = df_1_good.dropna(subset=['Total'])\n",
    "df_1_good = df_1_good.dropna(subset=['Solid Fuel'])\n",
    "\n",
    "# Create a map\n",
    "my_map = folium.Map()"
   ]
  },
  {
   "cell_type": "code",
   "execution_count": 7,
   "metadata": {},
   "outputs": [],
   "source": [
    "# Add the data for first Worldmap (1914)\n",
    "folium.Choropleth(\n",
    "    geo_data=df_1_good,\n",
    "    name='choropleth',\n",
    "    data=df_1_good,\n",
    "    columns=['Country', 'Total'],\n",
    "    key_on='feature.properties.name',\n",
    "    fill_color='OrRd',\n",
    "    fill_opacity=0.7,\n",
    "    line_opacity=0.2,\n",
    "    legend_name='Total amount of fossil-fuel CO2 emissions in 1914'\n",
    ").add_to(my_map)\n",
    "my_map.save('co2_1914.html')"
   ]
  },
  {
   "cell_type": "markdown",
   "metadata": {},
   "source": [
    "### 2.5. Read GeoPandas dataset and create the map for year 2014"
   ]
  },
  {
   "cell_type": "code",
   "execution_count": 8,
   "metadata": {},
   "outputs": [],
   "source": [
    "# Read the geopandas dataset and add data from 2014\n",
    "world = geopandas.read_file(geopandas.datasets.get_path('naturalearth_lowres'))\n",
    "\n",
    "df_2_good = world.merge(df_2_good, how=\"left\", left_on=['name'], right_on=['Country'])\n",
    "\n",
    "# Drop NaN values in dataset\n",
    "#df_2 = df_2.dropna(subset=['Total'])\n",
    "#df_2= df_2.dropna(subset=['Solid Fuel'])\n",
    "\n",
    "# Create a map\n",
    "my_map = folium.Map()"
   ]
  },
  {
   "cell_type": "code",
   "execution_count": 9,
   "metadata": {},
   "outputs": [],
   "source": [
    "# Add the data for SECOND worldmap (2014)\n",
    "folium.Choropleth(\n",
    "    geo_data=df_2_good,\n",
    "    name='choropleth',\n",
    "    data=df_2_good,\n",
    "    columns=['Country', 'Total'],\n",
    "    key_on='feature.properties.name',\n",
    "    fill_color='OrRd',\n",
    "    fill_opacity=0.7,\n",
    "    line_opacity=0.2,\n",
    "    legend_name='Total amount of fossil-fuel CO2 emissions in 2014'\n",
    ").add_to(my_map)\n",
    "my_map.save('co2_2014.html')"
   ]
  }
 ],
 "metadata": {
  "kernelspec": {
   "display_name": "Python 3",
   "language": "python",
   "name": "python3"
  },
  "language_info": {
   "codemirror_mode": {
    "name": "ipython",
    "version": 3
   },
   "file_extension": ".py",
   "mimetype": "text/x-python",
   "name": "python",
   "nbconvert_exporter": "python",
   "pygments_lexer": "ipython3",
   "version": "3.7.4"
  }
 },
 "nbformat": 4,
 "nbformat_minor": 2
}