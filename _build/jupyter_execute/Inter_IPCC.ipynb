{
 "cells": [
  {
   "cell_type": "markdown",
   "metadata": {},
   "source": [
    "# Playing with interactive maps"
   ]
  },
  {
   "cell_type": "markdown",
   "metadata": {},
   "source": [
    "## 1. Introduction"
   ]
  },
  {
   "cell_type": "markdown",
   "metadata": {},
   "source": [
    "In this Jupyter Book I use the pandas library to handle data and _geopandas_ which makes it easier to work with geospatial data in python. The aim is just to play a bit with different datasets in order to see the main differences amongst countries regarding several characteristics.\n",
    "\n",
    "**Datasets**:\n",
    "\n",
    "1. The first dataset that I have used is the IPCC Socio-economic baseline Data from 1993. They provide per country data on:\n",
    "    - Population and Human development. \n",
    "    - Economic conditions.\n",
    "    - Land cover/use.\n",
    "    - Water.\n",
    "    - Agriculture/Food.\n",
    "    - Energy.\n",
    "    - Biodiversity."
   ]
  },
  {
   "cell_type": "markdown",
   "metadata": {},
   "source": [
    "## 2. Code"
   ]
  },
  {
   "cell_type": "markdown",
   "metadata": {},
   "source": [
    "### 2.1. Import libraries"
   ]
  },
  {
   "cell_type": "code",
   "execution_count": 1,
   "metadata": {},
   "outputs": [],
   "source": [
    "import pandas as pd\n",
    "import geopandas\n",
    "import folium"
   ]
  },
  {
   "cell_type": "markdown",
   "metadata": {},
   "source": [
    "### 2.2. Read data from dataset"
   ]
  },
  {
   "cell_type": "code",
   "execution_count": 2,
   "metadata": {},
   "outputs": [],
   "source": [
    "# read_html returns a list of tables from the EXCEL file\n",
    "df_sheet_all = pd.read_excel('Data/Data_GOOD.xls',sheet_name=None)\n",
    "regions = ['Africa','Australasia', 'Europe', 'Latin America', 'Middle East and Arid Asia', 'North America', 'Small Island States', 'Temperate Asia', 'Tropical Asia']"
   ]
  },
  {
   "cell_type": "markdown",
   "metadata": {},
   "source": [
    "### 2.3. Construct arrays"
   ]
  },
  {
   "cell_type": "markdown",
   "metadata": {},
   "source": [
    "I construct the arrays to merge all the results per country and use _geopandas_."
   ]
  },
  {
   "cell_type": "code",
   "execution_count": 3,
   "metadata": {},
   "outputs": [],
   "source": [
    "Africa = df_sheet_all[regions[0]];\n",
    "Africa = Africa[1:-1];\n",
    "new_header = Africa.iloc[0] #grab the first row for the header\n",
    "Africa = Africa[1:] #take the data less the header row\n",
    "Africa.columns = new_header #set the header row as the df header\n",
    "\n",
    "Australasia = df_sheet_all[regions[1]];\n",
    "Australasia = Australasia[1:-1];\n",
    "new_header = Australasia.iloc[0] #grab the first row for the header\n",
    "Australasia = Australasia[1:] #take the data less the header row\n",
    "Australasia.columns = new_header #set the header row as the df header\n",
    "\n",
    "Europe = df_sheet_all[regions[2]];\n",
    "Europe = Europe[1:-1];\n",
    "new_header = Europe.iloc[0] #grab the first row for the header\n",
    "Europe = Europe[1:] #take the data less the header row\n",
    "Europe.columns = new_header #set the header row as the df header\n",
    "\n",
    "Latinam = df_sheet_all[regions[3]];\n",
    "Latinam = Latinam[1:-1];\n",
    "new_header = Latinam.iloc[0] #grab the first row for the header\n",
    "Latinam = Latinam[1:] #take the data less the header row\n",
    "Latinam.columns = new_header #set the header row as the df header\n",
    "\n",
    "Mideast = df_sheet_all[regions[4]];\n",
    "Mideast = Mideast[1:-1];\n",
    "new_header = Mideast.iloc[0] #grab the first row for the header\n",
    "Mideast = Mideast[1:] #take the data less the header row\n",
    "Mideast.columns = new_header #set the header row as the df header\n",
    "\n",
    "Northam = df_sheet_all[regions[5]];\n",
    "Northam = Northam[1:-1];\n",
    "new_header = Northam.iloc[0] #grab the first row for the header\n",
    "Northam = Northam[1:] #take the data less the header row\n",
    "Northam.columns = new_header #set the header row as the df header\n",
    "\n",
    "Islands = df_sheet_all[regions[6]];\n",
    "Islands = Islands[1:-1];\n",
    "new_header = Islands.iloc[0] #grab the first row for the header\n",
    "Islands = Islands[1:] #take the data less the header row\n",
    "Islands.columns = new_header #set the header row as the df header\n",
    "\n",
    "Asia_tem = df_sheet_all[regions[7]];\n",
    "Asia_tem = Asia_tem[1:-1];\n",
    "new_header = Asia_tem.iloc[0] #grab the first row for the header\n",
    "Asia_tem = Asia_tem[1:] #take the data less the header row\n",
    "Asia_tem.columns = new_header #set the header row as the df header\n",
    "\n",
    "Asia_trop = df_sheet_all[regions[8]];\n",
    "Asia_trop = Asia_trop[1:-1];\n",
    "new_header = Asia_trop.iloc[0] #grab the first row for the header\n",
    "Asia_trop = Asia_trop[1:] #take the data less the header row\n",
    "Asia_trop.columns = new_header #set the header row as the df header"
   ]
  },
  {
   "cell_type": "markdown",
   "metadata": {},
   "source": [
    "### 2.4. Read Geopandas dataset and create map"
   ]
  },
  {
   "cell_type": "code",
   "execution_count": 4,
   "metadata": {},
   "outputs": [],
   "source": [
    "#frames = [Africa, Australasia, Europe, Latinam, Mideast, Northam, Islands, Asia_tem, Asia_trop]\n",
    "frames = [Africa, Australasia, Europe, Latinam,Mideast,Northam,Islands,Asia_tem,Asia_trop]\n",
    "result = pd.concat(frames)\n",
    "\n",
    "# Read the geopandas dataset\n",
    "world = geopandas.read_file(geopandas.datasets.get_path('naturalearth_lowres'))\n",
    "\n",
    "result = world.merge(result, how=\"left\", left_on=['name'], right_on=['Country'])\n",
    "\n",
    "# Drop NaN values in dataset\n",
    "result = result.dropna(subset=['Forest and Woodland (1000 ha) 1993'])\n",
    "#result.to_excel(r'results.xlsx')\n",
    "\n",
    "# Create a map with Folium\n",
    "my_map = folium.Map()"
   ]
  },
  {
   "cell_type": "code",
   "execution_count": 5,
   "metadata": {},
   "outputs": [],
   "source": [
    "# Add the data\n",
    "folium.Choropleth(\n",
    "    geo_data=result,\n",
    "    name='choropleth',\n",
    "    data=result,\n",
    "    columns=['Country', 'Forest and Woodland (1000 ha) 1993'],\n",
    "    key_on='feature.properties.name',\n",
    "    fill_color='OrRd',\n",
    "    fill_opacity=0.7,\n",
    "    line_opacity=0.2,\n",
    "    legend_name='Forest and Woodland (1000 ha) 1993'\n",
    ").add_to(my_map)\n",
    "my_map.save('forest.html')"
   ]
  },
  {
   "cell_type": "code",
   "execution_count": null,
   "metadata": {},
   "outputs": [],
   "source": []
  },
  {
   "cell_type": "markdown",
   "metadata": {},
   "source": [
    "\n",
    "```{toctree}\n",
    ":hidden:\n",
    ":titlesonly:\n",
    "\n",
    "\n",
    "Fuel_1914\n",
    "```\n"
   ]
  }
 ],
 "metadata": {
  "kernelspec": {
   "display_name": "Python 3",
   "language": "python",
   "name": "python3"
  },
  "language_info": {
   "codemirror_mode": {
    "name": "ipython",
    "version": 3
   },
   "file_extension": ".py",
   "mimetype": "text/x-python",
   "name": "python",
   "nbconvert_exporter": "python",
   "pygments_lexer": "ipython3",
   "version": "3.7.4"
  }
 },
 "nbformat": 4,
 "nbformat_minor": 2
}